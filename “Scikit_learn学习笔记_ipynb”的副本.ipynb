{
  "nbformat": 4,
  "nbformat_minor": 0,
  "metadata": {
    "colab": {
      "name": "“Scikit_learn学习笔记.ipynb”的副本",
      "version": "0.3.2",
      "provenance": [],
      "collapsed_sections": [],
      "include_colab_link": true
    },
    "kernelspec": {
      "name": "python3",
      "display_name": "Python 3"
    },
    "accelerator": "GPU"
  },
  "cells": [
    {
      "cell_type": "markdown",
      "metadata": {
        "id": "view-in-github",
        "colab_type": "text"
      },
      "source": [
        "<a href=\"https://colab.research.google.com/github/LiJinghua18/Image-classification/blob/master/%E2%80%9CScikit_learn%E5%AD%A6%E4%B9%A0%E7%AC%94%E8%AE%B0_ipynb%E2%80%9D%E7%9A%84%E5%89%AF%E6%9C%AC.ipynb\" target=\"_parent\"><img src=\"https://colab.research.google.com/assets/colab-badge.svg\" alt=\"Open In Colab\"/></a>"
      ]
    },
    {
      "cell_type": "markdown",
      "metadata": {
        "id": "nokThLBHbFoF",
        "colab_type": "text"
      },
      "source": [
        "# Scikit-learn学习笔记\n",
        "- 机器学习工具包\n",
        "- ![](http://tuchuang-zc.oss-cn-shenzhen.aliyuncs.com/site-pictures/ml_map.png)\n",
        "   - [机器学习算法交互体验](https://codepen.io/collection/DPWwaj/2/)\n",
        "- 江湖名言\n",
        "   - <font color='blue'>数据</font>和<font color='blue'>特征</font>决定了机器学习的<font color='red'>上限</font>，而<font color='blue'>模型</font>和<font color='blue'>算法</font>只是逼近这个上限而已\n",
        "## 简介\n",
        "- 机器学习流程（参考：[机器学习之 sklearn中的pipeline](http://frankchen.xyz/2018/04/08/pipeline-in-machine-learning/)）\n",
        "![ml](http://images.gitbook.cn/e195a180-645f-11e7-a892-db2e6cab1d5f)\n",
        "- sklearn流程（参考：[机器学习该如何入门](https://blog.csdn.net/u013709270/article/details/76058123)）\n",
        "![ml](http://frankchen.xyz/images/15231783974167.jpg)\n"
      ]
    },
    {
      "cell_type": "markdown",
      "metadata": {
        "id": "NMpsxZs4bkoG",
        "colab_type": "text"
      },
      "source": [
        "## datasets包\n",
        "- sklearn中自带了各种数据集来满足不同的任务需求，例如使用iris数据进行分类任务。\n",
        "- （1）直接导入已有数据集——load_*\n",
        "- （2）单独创建数据集——make_*\n",
        "- （3）下载数据集——fetch_*"
      ]
    },
    {
      "cell_type": "code",
      "metadata": {
        "id": "xSe-D83yRdf1",
        "colab_type": "code",
        "outputId": "5b8c018f-7161-4dd3-8b61-87d97916d538",
        "colab": {
          "base_uri": "https://localhost:8080/",
          "height": 35
        }
      },
      "source": [
        "from sklearn import datasets as d\n",
        "import numpy as np\n",
        "\n",
        "#datasets.*? #查看datasets下的方法,同dir(datasets)\n",
        "\n",
        "#dir(datasets)\n",
        "#datasets.load_*? #直接加载数据集\n",
        "#datasets.fetch_*? #下载某些数据集\n",
        "#datasets.*?\n",
        "#datasets.make_*? #创建样本数据集\n",
        "#创建回归数据集\n",
        "reg_data = d.make_regression() \n",
        "reg_data[0].shape,reg_data[1].shape #获取矩阵大小\n",
        "#自定义更复杂的数据集\n",
        "complex_reg_data = d.make_regression(1000, 10, 5, 2, 1.0)\n",
        "complex_reg_data[0].shape,complex_reg_data[1].shape\n",
        "#创建一个非均衡数据集\n",
        "classification_set = d.make_classification(weights=[0.1])\n",
        "np.bincount(classification_set[1])\n",
        "#reg_data[0][1:4,1:7] #截取\n",
        "#reg_data[0].shape"
      ],
      "execution_count": 2,
      "outputs": [
        {
          "output_type": "execute_result",
          "data": {
            "text/plain": [
              "array([10, 90])"
            ]
          },
          "metadata": {
            "tags": []
          },
          "execution_count": 2
        }
      ]
    },
    {
      "cell_type": "markdown",
      "metadata": {
        "id": "2aWcU0ifsdEc",
        "colab_type": "text"
      },
      "source": [
        "疑问：\n",
        "\n",
        "哪里可以看出来是使用的iris数据？\n",
        "\n",
        "reg_data = d.make_regression()得到的数据集是sklearn中自带的吗？\n",
        "\n",
        "complex_reg_data = d.make_regression(1000, 10, 5, 2, 1.0)创建（1000,10）的矩阵，5个特征与因变量相关，误差系数0.2，2个因变量\n",
        "\n",
        "为什么每次执行出来的array值不一样？\n",
        "\n",
        "如何查看数据集datasets下的方法？\n",
        "\n",
        "\n",
        "\n",
        "---\n",
        "\n",
        "参考资料：\n",
        "\n",
        "【Scikit-learn】【模型预处理-1-数据获取】获取样本数据(iris/boston/digits等数据集) + 创建样本数据（回归/分类/聚类等数据集）https://blog.csdn.net/u012421852/article/details/80580530"
      ]
    },
    {
      "cell_type": "code",
      "metadata": {
        "id": "Tr3nRzbOwCMC",
        "colab_type": "code",
        "colab": {}
      },
      "source": [
        "d.*?\n"
      ],
      "execution_count": 0,
      "outputs": []
    },
    {
      "cell_type": "markdown",
      "metadata": {
        "id": "AcFGGG4Xo3Ai",
        "colab_type": "text"
      },
      "source": [
        "# 回归"
      ]
    },
    {
      "cell_type": "markdown",
      "metadata": {
        "id": "A3kfPyL8fhB6",
        "colab_type": "text"
      },
      "source": [
        "## boston数据集"
      ]
    },
    {
      "cell_type": "code",
      "metadata": {
        "id": "aBTKblJ1RdgB",
        "colab_type": "code",
        "outputId": "173eede8-2146-4f66-a47b-5d4b00653b51",
        "colab": {
          "base_uri": "https://localhost:8080/",
          "height": 317
        }
      },
      "source": [
        "#加载boston数据集——数据并非numpy类型，而是bunch类型（含data自变量和target隐变量，继承自dict的设计模式）\n",
        "boston = d.load_boston()\n",
        "#print(boston.DESCR)\n",
        "X, y = boston.data, boston.target\n",
        "print (len(X),len(y))\n",
        "#下载加州房价数据\n",
        "#housing = datasets.fetch_california_housing()\n",
        "#print(housing.DESCR)\n",
        "#创建聚类数据集\n",
        "import sklearn.datasets as d\n",
        "from matplotlib import pyplot as plt\n",
        "import numpy as np\n",
        "\n",
        "blobs = d.make_blobs(200)\n",
        "f = plt.figure(figsize=(8, 4))\n",
        "ax = f.add_subplot(111)\n",
        "ax.set_title(\"A blob with 3 centers\")\n",
        "colors = np.array(['r', 'g', 'b'])\n",
        "ax.scatter(blobs[0][:, 0], blobs[0][:, 1], color=colors[blobs[1].astype(int)], alpha=0.75)"
      ],
      "execution_count": 4,
      "outputs": [
        {
          "output_type": "stream",
          "text": [
            "506 506\n"
          ],
          "name": "stdout"
        },
        {
          "output_type": "execute_result",
          "data": {
            "text/plain": [
              "<matplotlib.collections.PathCollection at 0x7f2e7a4804a8>"
            ]
          },
          "metadata": {
            "tags": []
          },
          "execution_count": 4
        },
        {
          "output_type": "display_data",
          "data": {
            "image/png": "[encoded data removed]",
            "text/plain": [
              "<Figure size 576x288 with 1 Axes>"
            ]
          },
          "metadata": {
            "tags": []
          }
        }
      ]
    },
    {
      "cell_type": "markdown",
      "metadata": {
        "id": "xVkPRfFjdzu7",
        "colab_type": "text"
      },
      "source": [
        "加载得到的boston并不是直接转换成Numpy数组，而是Bunch类型。Bunch可以看成一个词典，键被示例对象作为属性使用。\n",
        "\n",
        "data属性：用data属性连接数据中包含自变量的Numpy数组\n",
        "\n",
        "target属性：用target属性连接数据中的因变量"
      ]
    },
    {
      "cell_type": "markdown",
      "metadata": {
        "id": "WeuwbMoBfrh4",
        "colab_type": "text"
      },
      "source": [
        "## 数据预处理"
      ]
    },
    {
      "cell_type": "code",
      "metadata": {
        "id": "RB6x5g1fRdgF",
        "colab_type": "code",
        "outputId": "2a332e02-deac-4274-a0ae-c35e09969035",
        "colab": {
          "base_uri": "https://localhost:8080/",
          "height": 35
        }
      },
      "source": [
        "#数据预处理\n",
        "from sklearn import preprocessing\n",
        "import numpy as np\n",
        "from sklearn import datasets as d\n",
        "#加载波士顿数据集\n",
        "boston = d.load_boston()\n",
        "X, y = boston.data, boston.target\n",
        "X[:, :3].mean(axis=0) #前三个特征的均值\n",
        "#array([  3.59376071,  11.36363636,  11.13677866])\n",
        "X[:, :3].std(axis=0) #前三个特征的标准差\n",
        "X_2 = preprocessing.scale(X[:, :3]) #标准\n",
        "X_2.mean(axis=0)\n",
        "#array([  6.34099712e-17,  -6.34319123e-16,  -2.68291099e-15])\n",
        "X_2.std(axis=0)\n",
        "#array([ 1.,  1.,  1.])"
      ],
      "execution_count": 5,
      "outputs": [
        {
          "output_type": "execute_result",
          "data": {
            "text/plain": [
              "array([1., 1., 1.])"
            ]
          },
          "metadata": {
            "tags": []
          },
          "execution_count": 5
        }
      ]
    },
    {
      "cell_type": "code",
      "metadata": {
        "id": "nyRuxo7-RdgK",
        "colab_type": "code",
        "outputId": "81d33659-25f2-43e8-be70-95cdef784ac2",
        "colab": {
          "base_uri": "https://localhost:8080/",
          "height": 287
        }
      },
      "source": [
        "import numpy as np\n",
        "import matplotlib.pyplot as plt\n",
        "#%matplotlib inline\n",
        "#随机生成一个实数，范围在（0.5,1.5）之间\n",
        "cluster1 = np.random.uniform(0.5,1.5,(2,10))\n",
        "cluster2 = np.random.uniform(3.5,4.5,(2,10))\n",
        "#hstack拼接操作\n",
        "X = np.hstack((cluster1, cluster2)).T\n",
        "plt.figure()\n",
        "plt.axis([0,5,0,5])\n",
        "plt.grid(True)\n",
        "plt.plot(X[:,0],X[:,1],'k.')"
      ],
      "execution_count": 6,
      "outputs": [
        {
          "output_type": "execute_result",
          "data": {
            "text/plain": [
              "[<matplotlib.lines.Line2D at 0x7f2e7cf32b38>]"
            ]
          },
          "metadata": {
            "tags": []
          },
          "execution_count": 6
        },
        {
          "output_type": "display_data",
          "data": {
            "image/png": "[encoded data removed]",
            "text/plain": [
              "<Figure size 432x288 with 1 Axes>"
            ]
          },
          "metadata": {
            "tags": []
          }
        }
      ]
    },
    {
      "cell_type": "markdown",
      "metadata": {
        "id": "mQCn6aRIous1",
        "colab_type": "text"
      },
      "source": [
        "# 分类\n",
        "- 分类的核心目的是给定一个样本的数据观测，根据一个数据模型得出预测该样本属于哪个类别"
      ]
    },
    {
      "cell_type": "markdown",
      "metadata": {
        "id": "q-KM9kSegKvH",
        "colab_type": "text"
      },
      "source": [
        "## 二分类-LR回归\n",
        "- [logistics回归详解](http://blog.csdn.net/xlinsist/article/details/51289825)"
      ]
    },
    {
      "cell_type": "code",
      "metadata": {
        "id": "ItwnqlGoRdgU",
        "colab_type": "code",
        "outputId": "67413748-8501-4913-c2b2-e8165792cb4c",
        "colab": {
          "base_uri": "https://localhost:8080/",
          "height": 91
        }
      },
      "source": [
        "#logistics回归详解：http://blog.csdn.net/xlinsist/article/details/51289825\n",
        "from sklearn import datasets\n",
        "import numpy as np\n",
        "from sklearn.model_selection import train_test_split\n",
        "from sklearn.metrics import accuracy_score\n",
        "\n",
        "iris = datasets.load_iris() # 由于Iris是很有名的数据集，scikit-learn已经原生自带了。\n",
        "X = iris.data[:, [2, 3]]\n",
        "y = iris.target # 标签已经转换成0，1，2了\n",
        "X_train, X_test, y_train, y_test = train_test_split(X, y, test_size=0.3, random_state=0) # 为了看模型在没有见过数据集上的表现，随机拿出数据集中30%的部分做测试\n",
        "\n",
        "# 为了追求机器学习和最优化算法的最佳性能，我们将特征缩放\n",
        "from sklearn.preprocessing import StandardScaler\n",
        "sc = StandardScaler()\n",
        "sc.fit(X_train) # 估算每个特征的平均值和标准差\n",
        "sc.mean_ # 查看特征的平均值，由于Iris我们只用了两个特征，所以结果是array([ 3.82857143,  1.22666667])\n",
        "sc.scale_ # 查看特征的标准差，这个结果是array([ 1.79595918,  0.77769705])\n",
        "X_train_std = sc.transform(X_train)\n",
        "# 注意：这里我们要用同样的参数来标准化测试集，使得测试集和训练集之间有可比性\n",
        "X_test_std = sc.transform(X_test)\n",
        "\n",
        "# 训练感知机模型\n",
        "from sklearn.linear_model import Perceptron\n",
        "# n_iter：可以理解成梯度下降中迭代的次数\n",
        "# eta0：可以理解成梯度下降中的学习率\n",
        "# random_state：设置随机种子的，为了每次迭代都有相同的训练集顺序\n",
        "ppn = Perceptron(n_iter=40, eta0=0.1, random_state=0)\n",
        "ppn.fit(X_train_std, y_train)\n",
        "\n",
        "# 分类测试集，这将返回一个测试结果的数组\n",
        "y_pred = ppn.predict(X_test_std)\n",
        "# 计算模型在测试集上的准确性，我的结果为0.9，还不错\n",
        "accuracy_score(y_test, y_pred)"
      ],
      "execution_count": 7,
      "outputs": [
        {
          "output_type": "stream",
          "text": [
            "/usr/local/lib/python3.6/dist-packages/sklearn/linear_model/stochastic_gradient.py:152: DeprecationWarning: n_iter parameter is deprecated in 0.19 and will be removed in 0.21. Use max_iter and tol instead.\n",
            "  DeprecationWarning)\n"
          ],
          "name": "stderr"
        },
        {
          "output_type": "execute_result",
          "data": {
            "text/plain": [
              "0.8"
            ]
          },
          "metadata": {
            "tags": []
          },
          "execution_count": 7
        }
      ]
    },
    {
      "cell_type": "code",
      "metadata": {
        "id": "ae6u5xVsRdgY",
        "colab_type": "code",
        "outputId": "5258ddb1-522f-4437-8cc0-65425e808c53",
        "colab": {
          "base_uri": "https://localhost:8080/",
          "height": 283
        }
      },
      "source": [
        "import matplotlib.pyplot as plt\n",
        "import numpy as np\n",
        "\n",
        "def sigmoid(h):\n",
        "    return 1.0 / (1.0 + np.exp(-h))\n",
        "\n",
        "h = np.arange(-10, 10, 0.1) # 定义x的范围，像素为0.1\n",
        "s_h = sigmoid(h) # sigmoid为上面定义的函数\n",
        "plt.plot(h, s_h)\n",
        "plt.axvline(0.0, color='k') # 在坐标轴上加一条竖直的线，0.0为竖直线在坐标轴上的位置\n",
        "plt.axhspan(0.0, 1.0, facecolor='1.0', alpha=1.0, ls='dotted') # 加水平间距通过坐标轴\n",
        "plt.axhline(y=0.5, ls='dotted', color='k') # 加水线通过坐标轴\n",
        "plt.yticks([0.0, 0.5, 1.0]) # 加y轴刻度\n",
        "plt.ylim(-0.1, 1.1) # 加y轴范围\n",
        "plt.xlabel('h')\n",
        "plt.ylabel('$S(h)$')\n",
        "plt.show()"
      ],
      "execution_count": 8,
      "outputs": [
        {
          "output_type": "display_data",
          "data": {
            "image/png": "[encoded data removed]",
            "text/plain": [
              "<Figure size 432x288 with 1 Axes>"
            ]
          },
          "metadata": {
            "tags": []
          }
        }
      ]
    },
    {
      "cell_type": "markdown",
      "metadata": {
        "id": "S5Jpj5cqgWE0",
        "colab_type": "text"
      },
      "source": [
        "## 多分类-iris数据集"
      ]
    },
    {
      "cell_type": "markdown",
      "metadata": {
        "id": "7tWkuGIN3Sbo",
        "colab_type": "text"
      },
      "source": [
        ""
      ]
    },
    {
      "cell_type": "code",
      "metadata": {
        "id": "jF0bTnwIRdgd",
        "colab_type": "code",
        "outputId": "80c7785a-a6f2-4378-dc96-4541f2cbbc46",
        "colab": {
          "base_uri": "https://localhost:8080/",
          "height": 283
        }
      },
      "source": [
        "#iris数据集散点图\n",
        "import pandas as pd\n",
        "import matplotlib.pyplot as plt\n",
        "import numpy as np\n",
        "\n",
        "df = pd.read_csv('http://archive.ics.uci.edu/ml/machine-learning-databases/iris/iris.data', header=None) # 加载Iris数据集作为DataFrame对象\n",
        "X = df.iloc[:, [0, 2]].values # 取出2个特征，并把它们用Numpy数组表示\n",
        "\n",
        "plt.scatter(X[:50, 0], X[:50, 1],color='red', marker='o', label='setosa') # 前50个样本的散点图\n",
        "plt.scatter(X[50:100, 0], X[50:100, 1],color='blue', marker='x', label='versicolor') # 中间50个样本的散点图\n",
        "plt.scatter(X[100:, 0], X[100:, 1],color='green', marker='+', label='Virginica') # 后50个样本的散点图\n",
        "plt.xlabel('petal length')\n",
        "plt.ylabel('sepal length')\n",
        "plt.legend(loc=2) # 把说明放在左上角，具体请参考官方文档\n",
        "plt.show()"
      ],
      "execution_count": 9,
      "outputs": [
        {
          "output_type": "display_data",
          "data": {
            "image/png": "[encoded data removed]",
            "text/plain": [
              "<Figure size 432x288 with 1 Axes>"
            ]
          },
          "metadata": {
            "tags": []
          }
        }
      ]
    },
    {
      "cell_type": "code",
      "metadata": {
        "id": "MYCIhC3nRdgl",
        "colab_type": "code",
        "colab": {}
      },
      "source": [
        "#!/usr/bin/env python\n",
        "# coding=utf-8\n",
        "\n",
        "import matplotlib.pyplot as plt\n",
        "import numpy as np\n",
        "from matplotlib.colors import ListedColormap\n",
        "\n",
        "\n",
        "def plot_decision_regions(X, y, classifier, test_idx=None, resolution=0.02):\n",
        "    # setup marker generator and color map\n",
        "    markers = ('s', 'x', 'o', '^', 'v')\n",
        "    colors = ('red', 'blue', 'lightgreen', 'gray', 'cyan')\n",
        "    cmap = ListedColormap(colors[:len(np.unique(y))])\n",
        "    # plot the decision surface\n",
        "    x1_min, x1_max = X[:, 0].min() - 1, X[:, 0].max() + 1\n",
        "    x2_min, x2_max = X[:, 1].min() - 1, X[:, 1].max() + 1\n",
        "    xx1, xx2 = np.meshgrid(np.arange(x1_min, x1_max, resolution), np.arange(x2_min, x2_max, resolution))\n",
        "    Z = classifier.predict(np.array([xx1.ravel(), xx2.ravel()]).T)\n",
        "    Z = Z.reshape(xx1.shape)\n",
        "    plt.contourf(xx1, xx2, Z, alpha=0.4, cmap=cmap)\n",
        "    plt.xlim(xx1.min(), xx1.max())\n",
        "    plt.ylim(xx2.min(), xx2.max())\n",
        "    # plot class samples\n",
        "    for idx, cl in enumerate(np.unique(y)):\n",
        "        plt.scatter(x=X[y == cl, 0], y=X[y == cl, 1],alpha=0.8, c=cmap(idx),marker=markers[idx], label=cl)\n",
        "    # highlight test samples\n",
        "    if test_idx:\n",
        "        X_test, y_test = X[test_idx, :], y[test_idx]\n",
        "        plt.scatter(X_test[:, 0], X_test[:, 1], c='', alpha=1.0, linewidth=1, marker='o', s=55, label='test set')"
      ],
      "execution_count": 0,
      "outputs": []
    },
    {
      "cell_type": "code",
      "metadata": {
        "id": "eM7B0TASRdgp",
        "colab_type": "code",
        "outputId": "a99748fd-2dfa-4e9c-83cc-e4ef1b4ccb81",
        "colab": {
          "base_uri": "https://localhost:8080/",
          "height": 429
        }
      },
      "source": [
        "#logistics回归\n",
        "#依赖以上自定义function： plot_decision_regions\n",
        "from sklearn import datasets\n",
        "import numpy as np\n",
        "from sklearn.model_selection import train_test_split\n",
        "\n",
        "iris = datasets.load_iris()\n",
        "X = iris.data[:, [2, 3]]\n",
        "y = iris.target\n",
        "X_train, X_test, y_train, y_test = train_test_split(X, y, test_size=0.3, random_state=0)\n",
        "\n",
        "from sklearn.preprocessing import StandardScaler\n",
        "sc = StandardScaler()\n",
        "sc.fit(X_train)\n",
        "X_train_std = sc.transform(X_train)\n",
        "X_test_std = sc.transform(X_test)\n",
        "\n",
        "X_combined_std = np.vstack((X_train_std, X_test_std))\n",
        "y_combined = np.hstack((y_train, y_test))\n",
        "\n",
        "from sklearn.linear_model import LogisticRegression\n",
        "lr = LogisticRegression(C=1000.0, random_state=0)\n",
        "lr.fit(X_train_std, y_train)\n",
        "lr.predict_proba(X_test_std[0,:].reshape(1,-1)) # 查看第一个测试样本属于各个类别的概率\n",
        "#lr.predict_proba(X_test_std[0,:]) # 查看第一个测试样本属于各个类别的概率\n",
        "plot_decision_regions(X_combined_std, y_combined, classifier=lr, test_idx=range(105,150))\n",
        "plt.xlabel('petal length [standardized]')\n",
        "plt.ylabel('petal width [standardized]')\n",
        "plt.legend(loc='upper left')\n",
        "plt.show()"
      ],
      "execution_count": 13,
      "outputs": [
        {
          "output_type": "stream",
          "text": [
            "/usr/local/lib/python3.6/dist-packages/sklearn/linear_model/logistic.py:433: FutureWarning: Default solver will be changed to 'lbfgs' in 0.22. Specify a solver to silence this warning.\n",
            "  FutureWarning)\n",
            "/usr/local/lib/python3.6/dist-packages/sklearn/linear_model/logistic.py:460: FutureWarning: Default multi_class will be changed to 'auto' in 0.22. Specify the multi_class option to silence this warning.\n",
            "  \"this warning.\", FutureWarning)\n",
            "'c' argument looks like a single numeric RGB or RGBA sequence, which should be avoided as value-mapping will have precedence in case its length matches with 'x' & 'y'.  Please use a 2-D array with a single row if you really want to specify the same RGB or RGBA value for all points.\n",
            "'c' argument looks like a single numeric RGB or RGBA sequence, which should be avoided as value-mapping will have precedence in case its length matches with 'x' & 'y'.  Please use a 2-D array with a single row if you really want to specify the same RGB or RGBA value for all points.\n",
            "'c' argument looks like a single numeric RGB or RGBA sequence, which should be avoided as value-mapping will have precedence in case its length matches with 'x' & 'y'.  Please use a 2-D array with a single row if you really want to specify the same RGB or RGBA value for all points.\n"
          ],
          "name": "stderr"
        },
        {
          "output_type": "display_data",
          "data": {
            "image/png": "[encoded data removed]",
            "text/plain": [
              "<Figure size 432x288 with 1 Axes>"
            ]
          },
          "metadata": {
            "tags": []
          }
        }
      ]
    },
    {
      "cell_type": "markdown",
      "metadata": {
        "id": "eWPEEiOijsFI",
        "colab_type": "text"
      },
      "source": [
        "运行过程中出现一个错误：\n",
        "\n",
        "lr.predict_proba(X_test_std[0,:].reshape(1,-1)) # 查看第一个测试样本属于各个类别的概率，之前X_test_std[0,:]为一维数据，需要使用reshape(1,-1)方法将其转换为二维数据。"
      ]
    },
    {
      "cell_type": "code",
      "metadata": {
        "id": "JROXtJtsv9MB",
        "colab_type": "code",
        "outputId": "2b243ff2-6fa9-4a7c-f8d9-fe160b961230",
        "colab": {
          "base_uri": "https://localhost:8080/",
          "height": 73
        }
      },
      "source": [
        "import numpy as np \n",
        "from sklearn import datasets \n",
        "from sklearn.model_selection import cross_validate\n",
        "#from sklearn.cross_validation import train_test_split\n",
        "from sklearn.preprocessing import StandardScaler \n",
        "from sklearn.linear_model import Perceptron \n",
        "from sklearn.metrics import accuracy_score \n",
        "\n",
        "iris = datasets.load_iris()  \n",
        "X = iris.data[:,[2,3]] \n",
        "y = iris.target \n",
        "\n",
        "# 处理数据集，得到训练集和测试集。 \n",
        "X_train, X_test, y_train, y_test = train_test_split(X, y, test_size=0.3, random_state=0)  \n",
        "\n",
        "# 对特征数据进行标准化处理 \n",
        "sc = StandardScaler() \n",
        "sc.fit(X_train) \n",
        "X_train_std = sc.transform(X_train) \n",
        "X_test_std = sc.transform(X_test)  \n",
        "\n",
        "# 训练分类器 \n",
        "ppn = Perceptron(n_iter=40, eta0=0.1, random_state=0) \n",
        "ppn.fit(X_train_std, y_train) \n",
        "\n",
        "# 预测并评估分类器性能\n",
        "y_pred = ppn.predict(X_test_std)  \n",
        "acc_score = accuracy_score(y_test, y_pred)"
      ],
      "execution_count": 15,
      "outputs": [
        {
          "output_type": "stream",
          "text": [
            "/usr/local/lib/python3.6/dist-packages/sklearn/linear_model/stochastic_gradient.py:152: DeprecationWarning: n_iter parameter is deprecated in 0.19 and will be removed in 0.21. Use max_iter and tol instead.\n",
            "  DeprecationWarning)\n"
          ],
          "name": "stderr"
        }
      ]
    },
    {
      "cell_type": "code",
      "metadata": {
        "id": "KunfzGFHRdgs",
        "colab_type": "code",
        "outputId": "724f4e7a-ac2f-49dc-a9d7-1862e74df392",
        "colab": {
          "base_uri": "https://localhost:8080/",
          "height": 287
        }
      },
      "source": [
        "import numpy as np\n",
        "import matplotlib.pyplot as plt\n",
        "from scipy import optimize\n",
        "\n",
        "x=np.arange(1,13,1)\n",
        "y=np.array([17, 19, 21, 28, 33, 38, 37, 37, 31, 23, 19, 18 ])\n",
        "plt.plot(x,y)\n",
        "plt.grid()\n",
        "plt.show()\n",
        "print ('s')"
      ],
      "execution_count": 17,
      "outputs": [
        {
          "output_type": "display_data",
          "data": {
            "image/png": "[encoded data removed]",
            "text/plain": [
              "<Figure size 432x288 with 1 Axes>"
            ]
          },
          "metadata": {
            "tags": []
          }
        },
        {
          "output_type": "stream",
          "text": [
            "s\n"
          ],
          "name": "stdout"
        }
      ]
    },
    {
      "cell_type": "markdown",
      "metadata": {
        "id": "n4nAqdkZghRh",
        "colab_type": "text"
      },
      "source": [
        "## 多分类-文本分类"
      ]
    },
    {
      "cell_type": "code",
      "metadata": {
        "id": "FywO1N_GRdgw",
        "colab_type": "code",
        "outputId": "b7a055ce-4c9d-45d0-a5a5-cfa3447049d3",
        "colab": {
          "base_uri": "https://localhost:8080/",
          "height": 35
        }
      },
      "source": [
        "#[2017-7-25]sklearn文本分类\n",
        "from sklearn import datasets as d\n",
        "from sklearn.datasets import fetch_20newsgroups\n",
        "\n",
        "data_all = d.load_iris()\n",
        "data_x = data_all['data']\n",
        "data_y = data_all['target_names']\n",
        "#print data_y\n",
        "#print data_x\n",
        "print (len(data_x))\n",
        "#dir(d)\n",
        "\n",
        "# print d.fetch_mldata(subset='train')\n",
        "# newsgroup_train = fetch_20newsgroups(subset='train')"
      ],
      "execution_count": 19,
      "outputs": [
        {
          "output_type": "stream",
          "text": [
            "150\n"
          ],
          "name": "stdout"
        }
      ]
    },
    {
      "cell_type": "code",
      "metadata": {
        "id": "F1UB3FpPRdgz",
        "colab_type": "code",
        "outputId": "f238c569-863a-495d-d1da-af632bc0679b",
        "colab": {
          "base_uri": "https://localhost:8080/",
          "height": 71
        }
      },
      "source": [
        "#[2017-7-25]应用sklearn做文本分类:http://blog.csdn.net/abcjennifer/article/details/23615947\n",
        "from sklearn.datasets import fetch_20newsgroups \n",
        "#下载指定的数据集\n",
        "#newsgroup_train = fetch_20newsgroups(subset='train') \n",
        "categories = ['comp.graphics',  \n",
        " 'comp.os.ms-windows.misc',  \n",
        " 'comp.sys.ibm.pc.hardware',  \n",
        " 'comp.sys.mac.hardware',  \n",
        " 'comp.windows.x']\n",
        "newsgroup_train = fetch_20newsgroups(subset = 'train', categories = categories); #训练数据\n",
        "newsgroup_test = fetch_20newsgroups(subset = 'test', categories = categories);#测试数据\n",
        "dir(newsgroup_train)"
      ],
      "execution_count": 20,
      "outputs": [
        {
          "output_type": "stream",
          "text": [
            "Downloading 20news dataset. This may take a few minutes.\n",
            "Downloading dataset from https://ndownloader.figshare.com/files/5975967 (14 MB)\n"
          ],
          "name": "stderr"
        },
        {
          "output_type": "execute_result",
          "data": {
            "text/plain": [
              "['DESCR', 'data', 'filenames', 'target', 'target_names']"
            ]
          },
          "metadata": {
            "tags": []
          },
          "execution_count": 20
        }
      ]
    },
    {
      "cell_type": "code",
      "metadata": {
        "id": "ezHVcpFoRdg3",
        "colab_type": "code",
        "outputId": "07cdd7d2-97e8-4681-b320-fecb1ef6d47f",
        "colab": {
          "base_uri": "https://localhost:8080/",
          "height": 107
        }
      },
      "source": [
        "from pprint import pprint  \n",
        "pprint(list(newsgroup_train.target_names)) "
      ],
      "execution_count": 21,
      "outputs": [
        {
          "output_type": "stream",
          "text": [
            "['comp.graphics',\n",
            " 'comp.os.ms-windows.misc',\n",
            " 'comp.sys.ibm.pc.hardware',\n",
            " 'comp.sys.mac.hardware',\n",
            " 'comp.windows.x']\n"
          ],
          "name": "stdout"
        }
      ]
    },
    {
      "cell_type": "code",
      "metadata": {
        "id": "-bAr2yVFRdg6",
        "colab_type": "code",
        "outputId": "2d7b522b-f97e-433d-e15c-7540dd2d7532",
        "colab": {
          "base_uri": "https://localhost:8080/",
          "height": 235
        }
      },
      "source": [
        "#从文本中提取特征\n",
        "from sklearn.feature_extraction.text import HashingVectorizer  \n",
        "#只取了10000个词，即10000维feature，稀疏度还不算低,实际上用TfidfVectorizer统计可得到上万维的feature\n",
        "vectorizer = HashingVectorizer(stop_words = 'english',non_negative = True,  n_features = 10000)  \n",
        "fea_train = vectorizer.fit_transform(newsgroup_train.data)  \n",
        "fea_test = vectorizer.fit_transform(newsgroup_test.data);  \n",
        "#return feature vector 'fea_train' [n_samples,n_features]  \n",
        "print ('Size of fea_train:' + repr(fea_train.shape) ) \n",
        "print ('Size of fea_train:' + repr(fea_test.shape))  \n",
        "#11314 documents, 130107 vectors for all categories  \n",
        "print ('The average feature sparsity is {0:.3f}%'.format(fea_train.nnz/float(fea_train.shape[0]*fea_train.shape[1])*100))  "
      ],
      "execution_count": 24,
      "outputs": [
        {
          "output_type": "stream",
          "text": [
            "/usr/local/lib/python3.6/dist-packages/sklearn/feature_extraction/hashing.py:102: DeprecationWarning: the option non_negative=True has been deprecated in 0.19 and will be removed in version 0.21.\n",
            "  \" in version 0.21.\", DeprecationWarning)\n",
            "/usr/local/lib/python3.6/dist-packages/sklearn/feature_extraction/hashing.py:102: DeprecationWarning: the option non_negative=True has been deprecated in 0.19 and will be removed in version 0.21.\n",
            "  \" in version 0.21.\", DeprecationWarning)\n",
            "/usr/local/lib/python3.6/dist-packages/sklearn/feature_extraction/hashing.py:102: DeprecationWarning: the option non_negative=True has been deprecated in 0.19 and will be removed in version 0.21.\n",
            "  \" in version 0.21.\", DeprecationWarning)\n",
            "/usr/local/lib/python3.6/dist-packages/sklearn/feature_extraction/hashing.py:102: DeprecationWarning: the option non_negative=True has been deprecated in 0.19 and will be removed in version 0.21.\n",
            "  \" in version 0.21.\", DeprecationWarning)\n"
          ],
          "name": "stderr"
        },
        {
          "output_type": "stream",
          "text": [
            "Size of fea_train:(2936, 10000)\n",
            "Size of fea_train:(1955, 10000)\n",
            "The average feature sparsity is 1.002%\n"
          ],
          "name": "stdout"
        }
      ]
    },
    {
      "cell_type": "code",
      "metadata": {
        "id": "riSm3jlxRdg_",
        "colab_type": "code",
        "colab": {}
      },
      "source": [
        ""
      ],
      "execution_count": 0,
      "outputs": []
    },
    {
      "cell_type": "markdown",
      "metadata": {
        "id": "1VmhpeyCpEnq",
        "colab_type": "text"
      },
      "source": [
        "# 聚类"
      ]
    },
    {
      "cell_type": "markdown",
      "metadata": {
        "id": "6xSAT3IZf9gQ",
        "colab_type": "text"
      },
      "source": [
        "## k-means聚类\n",
        "- [k-means聚类分析](http://www.cnblogs.com/wuchuanying/p/6264025.html)"
      ]
    },
    {
      "cell_type": "code",
      "metadata": {
        "id": "Ub2XaI6BRdgR",
        "colab_type": "code",
        "outputId": "93729a3a-263f-49cd-f6ee-410fa10416b2",
        "colab": {
          "base_uri": "https://localhost:8080/",
          "height": 313
        }
      },
      "source": [
        "#coding:utf-8\n",
        "#k-mean聚类分析：http://www.cnblogs.com/wuchuanying/p/6264025.html\n",
        "#我们计算K值从1到10对应的平均畸变程度：\n",
        "from sklearn.cluster import KMeans\n",
        "#用scipy求解距离\n",
        "from scipy.spatial.distance import cdist\n",
        "K=range(1,10)\n",
        "meandistortions=[]\n",
        "for k in K:\n",
        "    kmeans=KMeans(n_clusters=k)\n",
        "    kmeans.fit(X)\n",
        "    meandistortions.append(sum(np.min(\n",
        "            cdist(X,kmeans.cluster_centers_,\n",
        "                 'euclidean'),axis=1))/X.shape[0])\n",
        "plt.plot(K, meandistortions, 'bx-')\n",
        "plt.xlabel('k')\n",
        "plt.ylabel(u'平均畸变程度')\n",
        "#plt.ylabel(u'平均畸变程度',fontproperties=font)\n",
        "#plt.title(u'用肘部法则来确定最佳的K值',fontproperties=font)\n",
        "plt.title(u'用肘部法则来确定最佳的K值')"
      ],
      "execution_count": 25,
      "outputs": [
        {
          "output_type": "execute_result",
          "data": {
            "text/plain": [
              "Text(0.5, 1.0, '用肘部法则来确定最佳的K值')"
            ]
          },
          "metadata": {
            "tags": []
          },
          "execution_count": 25
        },
        {
          "output_type": "display_data",
          "data": {
            "image/png": "[encoded data removed]",
            "text/plain": [
              "<Figure size 432x288 with 1 Axes>"
            ]
          },
          "metadata": {
            "tags": []
          }
        }
      ]
    },
    {
      "cell_type": "markdown",
      "metadata": {
        "id": "cquHlN5hpHZQ",
        "colab_type": "text"
      },
      "source": [
        "# 降维"
      ]
    },
    {
      "cell_type": "code",
      "metadata": {
        "id": "X_MxEsO_wrFH",
        "colab_type": "code",
        "outputId": "a4e2a37b-5b9f-4e90-a373-9cf41d8d1315",
        "colab": {
          "base_uri": "https://localhost:8080/",
          "height": 35
        }
      },
      "source": [
        "from sklearn.decomposition import PCA\n",
        "from sklearn.datasets import load_iris\n",
        "\n",
        "iris = load_iris()\n",
        "X = iris.data\n",
        "pca = PCA(n_components=2)\n",
        "reduced_X = pca.fit_transform(X)\n",
        "\n",
        "X.shape \t\t\t# (150, 4)\n",
        "reduced_X.shape \t# (150, 2)"
      ],
      "execution_count": 26,
      "outputs": [
        {
          "output_type": "execute_result",
          "data": {
            "text/plain": [
              "(150, 2)"
            ]
          },
          "metadata": {
            "tags": []
          },
          "execution_count": 26
        }
      ]
    },
    {
      "cell_type": "markdown",
      "metadata": {
        "id": "J7ZEc7v0pJGe",
        "colab_type": "text"
      },
      "source": [
        "# 其它"
      ]
    }
  ]
}